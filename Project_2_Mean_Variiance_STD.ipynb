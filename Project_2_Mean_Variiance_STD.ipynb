{
  "nbformat": 4,
  "nbformat_minor": 0,
  "metadata": {
    "colab": {
      "provenance": [],
      "authorship_tag": "ABX9TyMRp53u2l4hOG2T04MYJHWh",
      "include_colab_link": true
    },
    "kernelspec": {
      "name": "python3",
      "display_name": "Python 3"
    },
    "language_info": {
      "name": "python"
    }
  },
  "cells": [
    {
      "cell_type": "markdown",
      "metadata": {
        "id": "view-in-github",
        "colab_type": "text"
      },
      "source": [
        "<a href=\"https://colab.research.google.com/github/19692yq/BAN-Lab-assignment-2-Yinghui-Qiang/blob/main/Project_2_Mean_Variiance_STD.ipynb\" target=\"_parent\"><img src=\"https://colab.research.google.com/assets/colab-badge.svg\" alt=\"Open In Colab\"/></a>"
      ]
    },
    {
      "cell_type": "code",
      "execution_count": 320,
      "metadata": {
        "id": "y_6TpVnLJUl3"
      },
      "outputs": [],
      "source": [
        "import numpy as np\n",
        "import statistics\n"
      ]
    },
    {
      "cell_type": "markdown",
      "source": [
        "# step 1. Get 9 digits"
      ],
      "metadata": {
        "id": "N6HuJfMQeHUI"
      }
    },
    {
      "cell_type": "markdown",
      "source": [
        "**method 1**"
      ],
      "metadata": {
        "id": "hOhfb9NwjSAm"
      }
    },
    {
      "cell_type": "code",
      "source": [
        "def calculate(list):\n",
        "  if len(list)!=9:\n",
        "    raise ValueError(\"List must contain nine numbers.\")\n",
        "\n",
        "  list=np.array(list).reshape(3,3)\n",
        "\n",
        "  calculations={}\n",
        "\n",
        "  calculations['mean']=[list.mean(axis=0).tolist(), list.mean(axis=1).tolist(), np.mean(list).tolist()]\n",
        "  calculations['variance']=[list.var(axis=0).tolist(), list.var(axis=1).tolist(), np.var(list).tolist()]\n",
        "  calculations['standard deviation']=[list.std(axis=0).tolist(), list.std(axis=1).tolist, np.std(list).tolist()]\n",
        "  calculations ['max']=[list.max(axis=0).tolist(), list.max(axis=1).tolist, np.max(list).tolist()]\n",
        "  calculations['min']=[list.min(axis=0).tolist(), list.min(axis=1).tolist, np.min(list).tolist()]\n",
        "  calculations['sum']=[list.sum(axis=0).tolist(), list.sum(axis=1).tolist, np.sum(list).tolist()]\n",
        "\n",
        "\n",
        "  return calculations\n"
      ],
      "metadata": {
        "id": "YaIUMfyheEiX"
      },
      "execution_count": 321,
      "outputs": []
    },
    {
      "cell_type": "code",
      "source": [
        "#ANS\n",
        "print(calculate([0,1,2,3,4,5,6,7,8]))"
      ],
      "metadata": {
        "colab": {
          "base_uri": "https://localhost:8080/"
        },
        "id": "IaoqWM0Sj004",
        "outputId": "c4d5e183-0aa2-4100-b3c2-a47198fe0923"
      },
      "execution_count": 322,
      "outputs": [
        {
          "output_type": "stream",
          "name": "stdout",
          "text": [
            "{'mean': [[3.0, 4.0, 5.0], [1.0, 4.0, 7.0], 4.0], 'variance': [[6.0, 6.0, 6.0], [0.6666666666666666, 0.6666666666666666, 0.6666666666666666], 6.666666666666667], 'standard deviation': [[2.449489742783178, 2.449489742783178, 2.449489742783178], <built-in method tolist of numpy.ndarray object at 0x7bb96d8f76f0>, 2.581988897471611], 'max': [[6, 7, 8], <built-in method tolist of numpy.ndarray object at 0x7bb96d8f7b70>, 8], 'min': [[0, 1, 2], <built-in method tolist of numpy.ndarray object at 0x7bb96d8f7ab0>, 0], 'sum': [[9, 12, 15], <built-in method tolist of numpy.ndarray object at 0x7bb96d584bd0>, 36]}\n"
          ]
        }
      ]
    },
    {
      "cell_type": "code",
      "source": [
        "print(list)"
      ],
      "metadata": {
        "colab": {
          "base_uri": "https://localhost:8080/"
        },
        "id": "rerQdSj8iDO9",
        "outputId": "fdadb598-3389-4c1b-b2ac-78390a120c5a"
      },
      "execution_count": 323,
      "outputs": [
        {
          "output_type": "stream",
          "name": "stdout",
          "text": [
            "<class 'list'>\n"
          ]
        }
      ]
    },
    {
      "cell_type": "markdown",
      "source": [
        "**method2**"
      ],
      "metadata": {
        "id": "bS6rzYIOsx5J"
      }
    },
    {
      "cell_type": "code",
      "source": [
        "import statistics"
      ],
      "metadata": {
        "id": "V4lFw3LA3RGK"
      },
      "execution_count": 324,
      "outputs": []
    },
    {
      "cell_type": "code",
      "source": [
        "a=np.array([0,1,2,3,4,5,6,7,8])\n",
        "a"
      ],
      "metadata": {
        "colab": {
          "base_uri": "https://localhost:8080/"
        },
        "id": "46zWVKfpGxzn",
        "outputId": "543f1820-d06f-48c3-8e1c-24b8e1204583"
      },
      "execution_count": 325,
      "outputs": [
        {
          "output_type": "execute_result",
          "data": {
            "text/plain": [
              "array([0, 1, 2, 3, 4, 5, 6, 7, 8])"
            ]
          },
          "metadata": {},
          "execution_count": 325
        }
      ]
    },
    {
      "cell_type": "code",
      "source": [
        "aa=a.reshape(3,3)"
      ],
      "metadata": {
        "id": "Q5WDc-9fHEWU"
      },
      "execution_count": 326,
      "outputs": []
    },
    {
      "cell_type": "code",
      "source": [
        "aa"
      ],
      "metadata": {
        "colab": {
          "base_uri": "https://localhost:8080/"
        },
        "id": "P7-VZc08vMdq",
        "outputId": "b4621bb6-444f-4c26-f117-1c2981929726"
      },
      "execution_count": 327,
      "outputs": [
        {
          "output_type": "execute_result",
          "data": {
            "text/plain": [
              "array([[0, 1, 2],\n",
              "       [3, 4, 5],\n",
              "       [6, 7, 8]])"
            ]
          },
          "metadata": {},
          "execution_count": 327
        }
      ]
    },
    {
      "cell_type": "code",
      "source": [
        "mean_c=np.mean(aa,axis=0).tolist()\n",
        "mean_c"
      ],
      "metadata": {
        "colab": {
          "base_uri": "https://localhost:8080/"
        },
        "id": "K7rETU2Hy-gs",
        "outputId": "9dca7c18-7239-4916-df79-5d9f54b7bda9"
      },
      "execution_count": 328,
      "outputs": [
        {
          "output_type": "execute_result",
          "data": {
            "text/plain": [
              "[3.0, 4.0, 5.0]"
            ]
          },
          "metadata": {},
          "execution_count": 328
        }
      ]
    },
    {
      "cell_type": "code",
      "source": [
        "mean_r=np.mean(aa, axis=1).tolist()\n",
        "mean_r"
      ],
      "metadata": {
        "colab": {
          "base_uri": "https://localhost:8080/"
        },
        "id": "zyoRud_Vvvdl",
        "outputId": "9b2739a5-ea36-49c9-a024-8608cfbabcd8"
      },
      "execution_count": 329,
      "outputs": [
        {
          "output_type": "execute_result",
          "data": {
            "text/plain": [
              "[1.0, 4.0, 7.0]"
            ]
          },
          "metadata": {},
          "execution_count": 329
        }
      ]
    },
    {
      "cell_type": "code",
      "source": [
        "mean_t=np.mean(aa).tolist()\n",
        "mean_t"
      ],
      "metadata": {
        "colab": {
          "base_uri": "https://localhost:8080/"
        },
        "id": "8XwFtuwB5WcK",
        "outputId": "b9372d05-e3d7-4756-cfe1-df237ac2cac4"
      },
      "execution_count": 330,
      "outputs": [
        {
          "output_type": "execute_result",
          "data": {
            "text/plain": [
              "4.0"
            ]
          },
          "metadata": {},
          "execution_count": 330
        }
      ]
    },
    {
      "cell_type": "code",
      "source": [
        "var_c=np.var(aa,axis=0).tolist()\n",
        "var_c"
      ],
      "metadata": {
        "colab": {
          "base_uri": "https://localhost:8080/"
        },
        "id": "3JRtW62-1cJQ",
        "outputId": "0d6bfc56-0e73-4b7d-a9e8-e5d3a245df07"
      },
      "execution_count": 331,
      "outputs": [
        {
          "output_type": "execute_result",
          "data": {
            "text/plain": [
              "[6.0, 6.0, 6.0]"
            ]
          },
          "metadata": {},
          "execution_count": 331
        }
      ]
    },
    {
      "cell_type": "code",
      "source": [
        "var_r=np.var(aa,axis=1).tolist()\n",
        "var_r"
      ],
      "metadata": {
        "colab": {
          "base_uri": "https://localhost:8080/"
        },
        "id": "tWJ2IS-g11lj",
        "outputId": "80b716ed-ec26-4872-d88c-12afc7d4f8a2"
      },
      "execution_count": 332,
      "outputs": [
        {
          "output_type": "execute_result",
          "data": {
            "text/plain": [
              "[0.6666666666666666, 0.6666666666666666, 0.6666666666666666]"
            ]
          },
          "metadata": {},
          "execution_count": 332
        }
      ]
    },
    {
      "cell_type": "code",
      "source": [
        "var_t=np.var(aa).tolist()\n",
        "var_t"
      ],
      "metadata": {
        "colab": {
          "base_uri": "https://localhost:8080/"
        },
        "id": "T8ZZZw2m5dS8",
        "outputId": "592bee4a-6b1f-46fb-f2d1-bbb575ec02e2"
      },
      "execution_count": 333,
      "outputs": [
        {
          "output_type": "execute_result",
          "data": {
            "text/plain": [
              "6.666666666666667"
            ]
          },
          "metadata": {},
          "execution_count": 333
        }
      ]
    },
    {
      "cell_type": "code",
      "source": [
        "max_c=np.max(aa,axis=0).tolist()\n",
        "max_c"
      ],
      "metadata": {
        "colab": {
          "base_uri": "https://localhost:8080/"
        },
        "id": "JuzBaFwf14qA",
        "outputId": "0420f98f-c57e-43c0-994d-4546ef104e3f"
      },
      "execution_count": 334,
      "outputs": [
        {
          "output_type": "execute_result",
          "data": {
            "text/plain": [
              "[6, 7, 8]"
            ]
          },
          "metadata": {},
          "execution_count": 334
        }
      ]
    },
    {
      "cell_type": "code",
      "source": [
        "std_c=np.std(aa,axis=0).tolist()\n",
        "std_c"
      ],
      "metadata": {
        "colab": {
          "base_uri": "https://localhost:8080/"
        },
        "id": "0HKN-Tz68dxo",
        "outputId": "ecd1690c-d4ae-46b9-bd48-0b009f35136a"
      },
      "execution_count": 335,
      "outputs": [
        {
          "output_type": "execute_result",
          "data": {
            "text/plain": [
              "[2.449489742783178, 2.449489742783178, 2.449489742783178]"
            ]
          },
          "metadata": {},
          "execution_count": 335
        }
      ]
    },
    {
      "cell_type": "code",
      "source": [
        "std_r=np.std(aa,axis=1).tolist()\n",
        "std_r"
      ],
      "metadata": {
        "colab": {
          "base_uri": "https://localhost:8080/"
        },
        "id": "pWKF-jB08zhE",
        "outputId": "d08337df-9763-49f8-8440-6d28b4f81241"
      },
      "execution_count": 336,
      "outputs": [
        {
          "output_type": "execute_result",
          "data": {
            "text/plain": [
              "[0.816496580927726, 0.816496580927726, 0.816496580927726]"
            ]
          },
          "metadata": {},
          "execution_count": 336
        }
      ]
    },
    {
      "cell_type": "code",
      "source": [
        "std_t=np.std(aa).tolist()\n",
        "std_t"
      ],
      "metadata": {
        "colab": {
          "base_uri": "https://localhost:8080/"
        },
        "id": "3UpTdlDe83Cp",
        "outputId": "1e294fdb-9a92-48d6-855c-2a784c3f0949"
      },
      "execution_count": 337,
      "outputs": [
        {
          "output_type": "execute_result",
          "data": {
            "text/plain": [
              "2.581988897471611"
            ]
          },
          "metadata": {},
          "execution_count": 337
        }
      ]
    },
    {
      "cell_type": "code",
      "source": [
        "max_r=np.max(aa,axis=1).tolist()\n",
        "max_r"
      ],
      "metadata": {
        "colab": {
          "base_uri": "https://localhost:8080/"
        },
        "id": "ICppbXBs-68Y",
        "outputId": "25b737c0-1c4f-43e3-b364-db9f8c35b58f"
      },
      "execution_count": 338,
      "outputs": [
        {
          "output_type": "execute_result",
          "data": {
            "text/plain": [
              "[2, 5, 8]"
            ]
          },
          "metadata": {},
          "execution_count": 338
        }
      ]
    },
    {
      "cell_type": "code",
      "source": [
        "max_c=np.max(aa,axis=0).tolist()"
      ],
      "metadata": {
        "id": "wWrK83R12DwL"
      },
      "execution_count": 339,
      "outputs": []
    },
    {
      "cell_type": "code",
      "source": [
        "max_t=np.max(aa).tolist()\n",
        "max_t"
      ],
      "metadata": {
        "colab": {
          "base_uri": "https://localhost:8080/"
        },
        "id": "12-dYYqm5lPq",
        "outputId": "0b14f0cb-6fc1-4c61-f11f-69629531dbd5"
      },
      "execution_count": 340,
      "outputs": [
        {
          "output_type": "execute_result",
          "data": {
            "text/plain": [
              "8"
            ]
          },
          "metadata": {},
          "execution_count": 340
        }
      ]
    },
    {
      "cell_type": "code",
      "source": [
        "min_c=np.min(aa,axis=0).tolist()\n",
        "min_c"
      ],
      "metadata": {
        "colab": {
          "base_uri": "https://localhost:8080/"
        },
        "id": "BBGib9vw4Xnq",
        "outputId": "2081f3ca-15fb-465b-d67e-edbbe6bcf96c"
      },
      "execution_count": 341,
      "outputs": [
        {
          "output_type": "execute_result",
          "data": {
            "text/plain": [
              "[0, 1, 2]"
            ]
          },
          "metadata": {},
          "execution_count": 341
        }
      ]
    },
    {
      "cell_type": "code",
      "source": [
        "min_r=np.min(aa,axis=1).tolist()\n",
        "min_r"
      ],
      "metadata": {
        "colab": {
          "base_uri": "https://localhost:8080/"
        },
        "id": "7dw_do4x4hOD",
        "outputId": "37ef2ea2-47a2-4669-96f1-d11e01633abe"
      },
      "execution_count": 342,
      "outputs": [
        {
          "output_type": "execute_result",
          "data": {
            "text/plain": [
              "[0, 3, 6]"
            ]
          },
          "metadata": {},
          "execution_count": 342
        }
      ]
    },
    {
      "cell_type": "code",
      "source": [
        "min_t=np.min(aa).tolist()\n",
        "min_t"
      ],
      "metadata": {
        "colab": {
          "base_uri": "https://localhost:8080/"
        },
        "id": "M1VpPYkd5qPg",
        "outputId": "4f72a15f-6d2c-4b44-d2b7-986289a64b87"
      },
      "execution_count": 343,
      "outputs": [
        {
          "output_type": "execute_result",
          "data": {
            "text/plain": [
              "0"
            ]
          },
          "metadata": {},
          "execution_count": 343
        }
      ]
    },
    {
      "cell_type": "code",
      "source": [
        "sum_r=np.sum(aa,axis=1).tolist()\n",
        "sum_r"
      ],
      "metadata": {
        "colab": {
          "base_uri": "https://localhost:8080/"
        },
        "id": "KmNlXSA15FSO",
        "outputId": "676a7ffe-cb53-4b4b-c7e2-f516afb0e55a"
      },
      "execution_count": 344,
      "outputs": [
        {
          "output_type": "execute_result",
          "data": {
            "text/plain": [
              "[3, 12, 21]"
            ]
          },
          "metadata": {},
          "execution_count": 344
        }
      ]
    },
    {
      "cell_type": "code",
      "source": [
        "sum_c=np.sum(aa,axis=0).tolist()\n",
        "sum_c"
      ],
      "metadata": {
        "colab": {
          "base_uri": "https://localhost:8080/"
        },
        "id": "kxnUWlyA5LYZ",
        "outputId": "b9a2a2bb-9436-47af-8b9a-1830213eb9b5"
      },
      "execution_count": 345,
      "outputs": [
        {
          "output_type": "execute_result",
          "data": {
            "text/plain": [
              "[9, 12, 15]"
            ]
          },
          "metadata": {},
          "execution_count": 345
        }
      ]
    },
    {
      "cell_type": "code",
      "source": [
        "sum_t=np.sum(aa).tolist()\n",
        "sum_t"
      ],
      "metadata": {
        "colab": {
          "base_uri": "https://localhost:8080/"
        },
        "id": "0ngF_TYGNB5h",
        "outputId": "0fe529ef-63dc-4010-893a-b216929a4d87"
      },
      "execution_count": 346,
      "outputs": [
        {
          "output_type": "execute_result",
          "data": {
            "text/plain": [
              "36"
            ]
          },
          "metadata": {},
          "execution_count": 346
        }
      ]
    },
    {
      "cell_type": "code",
      "source": [
        "#ANS\n",
        "a1={'mean':[mean_c,mean_r,mean_t],\"var\":[var_c,var_r,var_t],\"std\":[std_c,std_r,std_t],\"max\":[max_c,max_r,max_t],\"min\":[min_c,min_r,min_t],\"sum\":[sum_c,sum_r,sum_t]}\n",
        "a1"
      ],
      "metadata": {
        "colab": {
          "base_uri": "https://localhost:8080/"
        },
        "id": "nhdgcey5Hy2M",
        "outputId": "b5b8e1b1-2a1d-4f45-abda-265c04fa4468"
      },
      "execution_count": 347,
      "outputs": [
        {
          "output_type": "execute_result",
          "data": {
            "text/plain": [
              "{'mean': [[3.0, 4.0, 5.0], [1.0, 4.0, 7.0], 4.0],\n",
              " 'var': [[6.0, 6.0, 6.0],\n",
              "  [0.6666666666666666, 0.6666666666666666, 0.6666666666666666],\n",
              "  6.666666666666667],\n",
              " 'std': [[2.449489742783178, 2.449489742783178, 2.449489742783178],\n",
              "  [0.816496580927726, 0.816496580927726, 0.816496580927726],\n",
              "  2.581988897471611],\n",
              " 'max': [[6, 7, 8], [2, 5, 8], 8],\n",
              " 'min': [[0, 1, 2], [0, 3, 6], 0],\n",
              " 'sum': [[9, 12, 15], [3, 12, 21], 36]}"
            ]
          },
          "metadata": {},
          "execution_count": 347
        }
      ]
    },
    {
      "cell_type": "markdown",
      "source": [
        "**Method 3**"
      ],
      "metadata": {
        "id": "yVTc-vEkC3u8"
      }
    },
    {
      "cell_type": "code",
      "source": [
        "def calculate(list):\n",
        "  if len(list)!=9:\n",
        "    raise ValueError(\"List must contain nine numbers.\")\n",
        "\n",
        "  list=np.array(list).reshape(3,3)\n",
        "\n",
        "\n",
        "  mean=[list.mean(axis=0).tolist(), list.mean(axis=1).tolist(), np.mean(list).tolist()]\n",
        "  variance=[list.var(axis=0).tolist(), list.var(axis=1).tolist(), np.var(list).tolist()]\n",
        "  standard_deviation=[list.std(axis=0).tolist(), list.std(axis=1).tolist, np.std(list).tolist()]\n",
        "  max=[list.max(axis=0).tolist(), list.max(axis=1).tolist, np.max(list).tolist()]\n",
        "  min=[list.min(axis=0).tolist(), list.min(axis=1).tolist, np.min(list).tolist()]\n",
        "  sum=[list.sum(axis=0).tolist(), list.sum(axis=1).tolist, np.sum(list).tolist()]\n",
        "\n",
        "\n",
        "  return {\n",
        "      \"mean\": mean,\n",
        "      \"variance\": variance,\n",
        "      \"standard_deviation\": standard_deviation,\n",
        "      \"max\": max,\n",
        "      \"min\": min,\n",
        "      \"sum\":sum\n",
        "\n",
        "  }\n",
        "\n",
        "  return calculation"
      ],
      "metadata": {
        "id": "u-VEuwm7C1_k"
      },
      "execution_count": 367,
      "outputs": []
    },
    {
      "cell_type": "code",
      "source": [
        "print(calculate([11,12,33,14,15,16,17,18,19]))"
      ],
      "metadata": {
        "colab": {
          "base_uri": "https://localhost:8080/"
        },
        "id": "xQd17c85FMS0",
        "outputId": "10ae342e-2f4d-4968-aa6d-96bcd12f7591"
      },
      "execution_count": 372,
      "outputs": [
        {
          "output_type": "stream",
          "name": "stdout",
          "text": [
            "{'mean': [[14.0, 15.0, 22.666666666666668], [18.666666666666668, 15.0, 18.0], 17.22222222222222], 'variance': [[6.0, 6.0, 54.88888888888889], [102.88888888888887, 0.6666666666666666, 0.6666666666666666], 37.283950617283956], 'standard_deviation': [[2.449489742783178, 2.449489742783178, 7.408703590297623], <built-in method tolist of numpy.ndarray object at 0x7bb96d67a790>, 6.106058517348483], 'max': [[17, 18, 33], <built-in method tolist of numpy.ndarray object at 0x7bb96d678d50>, 33], 'min': [[11, 12, 16], <built-in method tolist of numpy.ndarray object at 0x7bb96d67b2d0>, 11], 'sum': [[42, 45, 68], <built-in method tolist of numpy.ndarray object at 0x7bb96d67a610>, 155]}\n"
          ]
        }
      ]
    },
    {
      "cell_type": "markdown",
      "source": [
        "**Other**"
      ],
      "metadata": {
        "id": "OTx3o90uBYcJ"
      }
    },
    {
      "cell_type": "code",
      "source": [
        "type(a1)"
      ],
      "metadata": {
        "colab": {
          "base_uri": "https://localhost:8080/"
        },
        "id": "1uFoQ_zv9tZK",
        "outputId": "4ac59b63-2562-4b67-8352-909ef207798b"
      },
      "execution_count": 350,
      "outputs": [
        {
          "output_type": "execute_result",
          "data": {
            "text/plain": [
              "dict"
            ]
          },
          "metadata": {},
          "execution_count": 350
        }
      ]
    },
    {
      "cell_type": "code",
      "source": [
        "a1=np.arange(10,19)\n",
        "a1"
      ],
      "metadata": {
        "colab": {
          "base_uri": "https://localhost:8080/"
        },
        "id": "ymZ7iG_7aiqb",
        "outputId": "e9f5f7fc-327a-459d-a31d-a40bd6f3ea87"
      },
      "execution_count": 351,
      "outputs": [
        {
          "output_type": "execute_result",
          "data": {
            "text/plain": [
              "array([10, 11, 12, 13, 14, 15, 16, 17, 18])"
            ]
          },
          "metadata": {},
          "execution_count": 351
        }
      ]
    },
    {
      "cell_type": "code",
      "source": [
        "np.sum(a1)"
      ],
      "metadata": {
        "colab": {
          "base_uri": "https://localhost:8080/"
        },
        "id": "ZzdIzTvDgBqH",
        "outputId": "3590a9ca-2233-4982-e8d6-9f6bdd14ff70"
      },
      "execution_count": 352,
      "outputs": [
        {
          "output_type": "execute_result",
          "data": {
            "text/plain": [
              "126"
            ]
          },
          "metadata": {},
          "execution_count": 352
        }
      ]
    },
    {
      "cell_type": "code",
      "source": [
        "def calculate(list):\n",
        "  list=np.array(list)\n",
        "\n",
        "  return{mean_c,mean_r,mean_t}\n"
      ],
      "metadata": {
        "id": "udrByfqi6ENI"
      },
      "execution_count": 353,
      "outputs": []
    },
    {
      "cell_type": "code",
      "source": [
        "print(list)"
      ],
      "metadata": {
        "colab": {
          "base_uri": "https://localhost:8080/"
        },
        "id": "QClsTrEa613p",
        "outputId": "929e9b6c-eaf8-4ba8-e8db-f067e6fefe46"
      },
      "execution_count": 354,
      "outputs": [
        {
          "output_type": "stream",
          "name": "stdout",
          "text": [
            "<class 'list'>\n"
          ]
        }
      ]
    },
    {
      "cell_type": "code",
      "source": [
        "def calculate(mean, var,std):\n",
        "  print(\"hi\")\n",
        "calculate"
      ],
      "metadata": {
        "colab": {
          "base_uri": "https://localhost:8080/"
        },
        "id": "Wk5hnTMUA3ZL",
        "outputId": "2d88cfd6-81e0-4d5f-a163-cfad5968d310"
      },
      "execution_count": 355,
      "outputs": [
        {
          "output_type": "execute_result",
          "data": {
            "text/plain": [
              "<function __main__.calculate(mean, var, std)>"
            ]
          },
          "metadata": {},
          "execution_count": 355
        }
      ]
    }
  ]
}